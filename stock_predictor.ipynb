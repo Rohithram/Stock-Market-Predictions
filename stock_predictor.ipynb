{
 "cells": [
  {
   "cell_type": "code",
   "execution_count": 1,
   "metadata": {},
   "outputs": [
    {
     "name": "stderr",
     "output_type": "stream",
     "text": [
      "Using TensorFlow backend.\n"
     ]
    }
   ],
   "source": [
    "import pandas as pd\n",
    "from pylab import *\n",
    "from keras.models import Layer\n",
    "from sklearn.preprocessing import MinMaxScaler\n",
    "import tensorflow as tf\n",
    "import tensorboard as tb"
   ]
  },
  {
   "cell_type": "code",
   "execution_count": 2,
   "metadata": {
    "collapsed": true
   },
   "outputs": [],
   "source": [
    "# fix random seed for reproducibility\n",
    "seed = 7\n",
    "np.random.seed(seed)"
   ]
  },
  {
   "cell_type": "code",
   "execution_count": 3,
   "metadata": {
    "collapsed": true
   },
   "outputs": [],
   "source": [
    "import preprocessors as prep"
   ]
  },
  {
   "cell_type": "code",
   "execution_count": 4,
   "metadata": {
    "collapsed": true
   },
   "outputs": [],
   "source": [
    "train_file_path = './data.csv'"
   ]
  },
  {
   "cell_type": "code",
   "execution_count": 271,
   "metadata": {
    "collapsed": true
   },
   "outputs": [],
   "source": [
    "train_df = pd.read_csv(train_file_path)"
   ]
  },
  {
   "cell_type": "code",
   "execution_count": 272,
   "metadata": {},
   "outputs": [
    {
     "data": {
      "text/html": [
       "<div>\n",
       "<style>\n",
       "    .dataframe thead tr:only-child th {\n",
       "        text-align: right;\n",
       "    }\n",
       "\n",
       "    .dataframe thead th {\n",
       "        text-align: left;\n",
       "    }\n",
       "\n",
       "    .dataframe tbody tr th {\n",
       "        vertical-align: top;\n",
       "    }\n",
       "</style>\n",
       "<table border=\"1\" class=\"dataframe\">\n",
       "  <thead>\n",
       "    <tr style=\"text-align: right;\">\n",
       "      <th></th>\n",
       "      <th>Date</th>\n",
       "      <th>Open</th>\n",
       "      <th>High</th>\n",
       "      <th>Low</th>\n",
       "      <th>Close</th>\n",
       "      <th>Adj Close</th>\n",
       "      <th>Volume</th>\n",
       "    </tr>\n",
       "  </thead>\n",
       "  <tbody>\n",
       "    <tr>\n",
       "      <th>0</th>\n",
       "      <td>04-10-2010</td>\n",
       "      <td>20501.21094</td>\n",
       "      <td>20706.74023</td>\n",
       "      <td>20437.35938</td>\n",
       "      <td>20475.73047</td>\n",
       "      <td>20475.73047</td>\n",
       "      <td>15000</td>\n",
       "    </tr>\n",
       "    <tr>\n",
       "      <th>1</th>\n",
       "      <td>05-10-2010</td>\n",
       "      <td>20461.98047</td>\n",
       "      <td>20560.53906</td>\n",
       "      <td>20383.16016</td>\n",
       "      <td>20407.71094</td>\n",
       "      <td>20407.71094</td>\n",
       "      <td>17800</td>\n",
       "    </tr>\n",
       "    <tr>\n",
       "      <th>2</th>\n",
       "      <td>06-10-2010</td>\n",
       "      <td>20448.68945</td>\n",
       "      <td>20669.94922</td>\n",
       "      <td>20447.05078</td>\n",
       "      <td>20543.08008</td>\n",
       "      <td>20543.08008</td>\n",
       "      <td>16200</td>\n",
       "    </tr>\n",
       "    <tr>\n",
       "      <th>3</th>\n",
       "      <td>07-10-2010</td>\n",
       "      <td>20544.30078</td>\n",
       "      <td>20581.28906</td>\n",
       "      <td>20272.76953</td>\n",
       "      <td>20315.32031</td>\n",
       "      <td>20315.32031</td>\n",
       "      <td>19200</td>\n",
       "    </tr>\n",
       "    <tr>\n",
       "      <th>4</th>\n",
       "      <td>08-10-2010</td>\n",
       "      <td>20297.58008</td>\n",
       "      <td>20409.18945</td>\n",
       "      <td>20145.74023</td>\n",
       "      <td>20250.25977</td>\n",
       "      <td>20250.25977</td>\n",
       "      <td>15400</td>\n",
       "    </tr>\n",
       "  </tbody>\n",
       "</table>\n",
       "</div>"
      ],
      "text/plain": [
       "         Date         Open         High          Low        Close  \\\n",
       "0  04-10-2010  20501.21094  20706.74023  20437.35938  20475.73047   \n",
       "1  05-10-2010  20461.98047  20560.53906  20383.16016  20407.71094   \n",
       "2  06-10-2010  20448.68945  20669.94922  20447.05078  20543.08008   \n",
       "3  07-10-2010  20544.30078  20581.28906  20272.76953  20315.32031   \n",
       "4  08-10-2010  20297.58008  20409.18945  20145.74023  20250.25977   \n",
       "\n",
       "     Adj Close Volume  \n",
       "0  20475.73047  15000  \n",
       "1  20407.71094  17800  \n",
       "2  20543.08008  16200  \n",
       "3  20315.32031  19200  \n",
       "4  20250.25977  15400  "
      ]
     },
     "execution_count": 272,
     "metadata": {},
     "output_type": "execute_result"
    }
   ],
   "source": [
    "train_df.head()"
   ]
  },
  {
   "cell_type": "code",
   "execution_count": 273,
   "metadata": {},
   "outputs": [
    {
     "data": {
      "text/html": [
       "<div>\n",
       "<style>\n",
       "    .dataframe thead tr:only-child th {\n",
       "        text-align: right;\n",
       "    }\n",
       "\n",
       "    .dataframe thead th {\n",
       "        text-align: left;\n",
       "    }\n",
       "\n",
       "    .dataframe tbody tr th {\n",
       "        vertical-align: top;\n",
       "    }\n",
       "</style>\n",
       "<table border=\"1\" class=\"dataframe\">\n",
       "  <thead>\n",
       "    <tr style=\"text-align: right;\">\n",
       "      <th></th>\n",
       "      <th>Date</th>\n",
       "      <th>Open</th>\n",
       "      <th>High</th>\n",
       "      <th>Low</th>\n",
       "      <th>Close</th>\n",
       "      <th>Adj Close</th>\n",
       "      <th>Volume</th>\n",
       "    </tr>\n",
       "  </thead>\n",
       "  <tbody>\n",
       "    <tr>\n",
       "      <th>1973</th>\n",
       "      <td>26-09-2018</td>\n",
       "      <td>36936.64063</td>\n",
       "      <td>36938.73828</td>\n",
       "      <td>36357.92969</td>\n",
       "      <td>36542.26953</td>\n",
       "      <td>36542.26953</td>\n",
       "      <td>21800</td>\n",
       "    </tr>\n",
       "    <tr>\n",
       "      <th>1974</th>\n",
       "      <td>27-09-2018</td>\n",
       "      <td>36691.92969</td>\n",
       "      <td>36711.62109</td>\n",
       "      <td>36238.23047</td>\n",
       "      <td>36324.17188</td>\n",
       "      <td>36324.17188</td>\n",
       "      <td>17800</td>\n",
       "    </tr>\n",
       "    <tr>\n",
       "      <th>1975</th>\n",
       "      <td>28-09-2018</td>\n",
       "      <td>36452.73828</td>\n",
       "      <td>36551.85938</td>\n",
       "      <td>35985.62891</td>\n",
       "      <td>36227.14063</td>\n",
       "      <td>36227.14063</td>\n",
       "      <td>22800</td>\n",
       "    </tr>\n",
       "    <tr>\n",
       "      <th>1976</th>\n",
       "      <td>01-10-2018</td>\n",
       "      <td>36274.25</td>\n",
       "      <td>36616.64063</td>\n",
       "      <td>35960.64844</td>\n",
       "      <td>36526.14063</td>\n",
       "      <td>36526.14063</td>\n",
       "      <td>21300</td>\n",
       "    </tr>\n",
       "    <tr>\n",
       "      <th>1977</th>\n",
       "      <td>03-10-2018</td>\n",
       "      <td>36602.85156</td>\n",
       "      <td>36602.85156</td>\n",
       "      <td>35911.82031</td>\n",
       "      <td>35975.62891</td>\n",
       "      <td>35975.62891</td>\n",
       "      <td>25100</td>\n",
       "    </tr>\n",
       "  </tbody>\n",
       "</table>\n",
       "</div>"
      ],
      "text/plain": [
       "            Date         Open         High          Low        Close  \\\n",
       "1973  26-09-2018  36936.64063  36938.73828  36357.92969  36542.26953   \n",
       "1974  27-09-2018  36691.92969  36711.62109  36238.23047  36324.17188   \n",
       "1975  28-09-2018  36452.73828  36551.85938  35985.62891  36227.14063   \n",
       "1976  01-10-2018     36274.25  36616.64063  35960.64844  36526.14063   \n",
       "1977  03-10-2018  36602.85156  36602.85156  35911.82031  35975.62891   \n",
       "\n",
       "        Adj Close Volume  \n",
       "1973  36542.26953  21800  \n",
       "1974  36324.17188  17800  \n",
       "1975  36227.14063  22800  \n",
       "1976  36526.14063  21300  \n",
       "1977  35975.62891  25100  "
      ]
     },
     "execution_count": 273,
     "metadata": {},
     "output_type": "execute_result"
    }
   ],
   "source": [
    "train_df.tail()"
   ]
  },
  {
   "cell_type": "code",
   "execution_count": 7,
   "metadata": {},
   "outputs": [
    {
     "name": "stdout",
     "output_type": "stream",
     "text": [
      "<class 'pandas.core.frame.DataFrame'>\n",
      "RangeIndex: 1978 entries, 0 to 1977\n",
      "Data columns (total 7 columns):\n",
      "Date         1978 non-null object\n",
      "Open         1978 non-null object\n",
      "High         1978 non-null object\n",
      "Low          1978 non-null object\n",
      "Close        1978 non-null object\n",
      "Adj Close    1978 non-null object\n",
      "Volume       1978 non-null object\n",
      "dtypes: object(7)\n",
      "memory usage: 108.2+ KB\n"
     ]
    }
   ],
   "source": [
    "train_df.info()"
   ]
  },
  {
   "cell_type": "code",
   "execution_count": 8,
   "metadata": {
    "collapsed": true
   },
   "outputs": [],
   "source": [
    "train_df[train_df.columns[0]] = pd.to_datetime(train_df[train_df.columns[0]])"
   ]
  },
  {
   "cell_type": "code",
   "execution_count": 9,
   "metadata": {},
   "outputs": [
    {
     "data": {
      "text/plain": [
       "Date         datetime64[ns]\n",
       "Open                 object\n",
       "High                 object\n",
       "Low                  object\n",
       "Close                object\n",
       "Adj Close            object\n",
       "Volume               object\n",
       "dtype: object"
      ]
     },
     "execution_count": 9,
     "metadata": {},
     "output_type": "execute_result"
    }
   ],
   "source": [
    "train_df.dtypes"
   ]
  },
  {
   "cell_type": "code",
   "execution_count": 10,
   "metadata": {
    "collapsed": true
   },
   "outputs": [],
   "source": [
    "train_df.index = train_df[train_df.columns[0]]"
   ]
  },
  {
   "cell_type": "code",
   "execution_count": 11,
   "metadata": {
    "collapsed": true
   },
   "outputs": [],
   "source": [
    "del train_df[train_df.columns[0]]"
   ]
  },
  {
   "cell_type": "code",
   "execution_count": 12,
   "metadata": {},
   "outputs": [
    {
     "data": {
      "text/html": [
       "<div>\n",
       "<style>\n",
       "    .dataframe thead tr:only-child th {\n",
       "        text-align: right;\n",
       "    }\n",
       "\n",
       "    .dataframe thead th {\n",
       "        text-align: left;\n",
       "    }\n",
       "\n",
       "    .dataframe tbody tr th {\n",
       "        vertical-align: top;\n",
       "    }\n",
       "</style>\n",
       "<table border=\"1\" class=\"dataframe\">\n",
       "  <thead>\n",
       "    <tr style=\"text-align: right;\">\n",
       "      <th></th>\n",
       "      <th>Open</th>\n",
       "      <th>High</th>\n",
       "      <th>Low</th>\n",
       "      <th>Close</th>\n",
       "      <th>Adj Close</th>\n",
       "      <th>Volume</th>\n",
       "    </tr>\n",
       "    <tr>\n",
       "      <th>Date</th>\n",
       "      <th></th>\n",
       "      <th></th>\n",
       "      <th></th>\n",
       "      <th></th>\n",
       "      <th></th>\n",
       "      <th></th>\n",
       "    </tr>\n",
       "  </thead>\n",
       "  <tbody>\n",
       "    <tr>\n",
       "      <th>2010-04-10</th>\n",
       "      <td>20501.21094</td>\n",
       "      <td>20706.74023</td>\n",
       "      <td>20437.35938</td>\n",
       "      <td>20475.73047</td>\n",
       "      <td>20475.73047</td>\n",
       "      <td>15000</td>\n",
       "    </tr>\n",
       "    <tr>\n",
       "      <th>2010-05-10</th>\n",
       "      <td>20461.98047</td>\n",
       "      <td>20560.53906</td>\n",
       "      <td>20383.16016</td>\n",
       "      <td>20407.71094</td>\n",
       "      <td>20407.71094</td>\n",
       "      <td>17800</td>\n",
       "    </tr>\n",
       "    <tr>\n",
       "      <th>2010-06-10</th>\n",
       "      <td>20448.68945</td>\n",
       "      <td>20669.94922</td>\n",
       "      <td>20447.05078</td>\n",
       "      <td>20543.08008</td>\n",
       "      <td>20543.08008</td>\n",
       "      <td>16200</td>\n",
       "    </tr>\n",
       "    <tr>\n",
       "      <th>2010-07-10</th>\n",
       "      <td>20544.30078</td>\n",
       "      <td>20581.28906</td>\n",
       "      <td>20272.76953</td>\n",
       "      <td>20315.32031</td>\n",
       "      <td>20315.32031</td>\n",
       "      <td>19200</td>\n",
       "    </tr>\n",
       "    <tr>\n",
       "      <th>2010-08-10</th>\n",
       "      <td>20297.58008</td>\n",
       "      <td>20409.18945</td>\n",
       "      <td>20145.74023</td>\n",
       "      <td>20250.25977</td>\n",
       "      <td>20250.25977</td>\n",
       "      <td>15400</td>\n",
       "    </tr>\n",
       "  </tbody>\n",
       "</table>\n",
       "</div>"
      ],
      "text/plain": [
       "                   Open         High          Low        Close    Adj Close  \\\n",
       "Date                                                                          \n",
       "2010-04-10  20501.21094  20706.74023  20437.35938  20475.73047  20475.73047   \n",
       "2010-05-10  20461.98047  20560.53906  20383.16016  20407.71094  20407.71094   \n",
       "2010-06-10  20448.68945  20669.94922  20447.05078  20543.08008  20543.08008   \n",
       "2010-07-10  20544.30078  20581.28906  20272.76953  20315.32031  20315.32031   \n",
       "2010-08-10  20297.58008  20409.18945  20145.74023  20250.25977  20250.25977   \n",
       "\n",
       "           Volume  \n",
       "Date               \n",
       "2010-04-10  15000  \n",
       "2010-05-10  17800  \n",
       "2010-06-10  16200  \n",
       "2010-07-10  19200  \n",
       "2010-08-10  15400  "
      ]
     },
     "execution_count": 12,
     "metadata": {},
     "output_type": "execute_result"
    }
   ],
   "source": [
    "train_df.head()"
   ]
  },
  {
   "cell_type": "code",
   "execution_count": 13,
   "metadata": {
    "collapsed": true
   },
   "outputs": [],
   "source": [
    "cols = train_df.columns[train_df.dtypes.eq(object)]\n",
    "train_df[cols] = train_df[cols].apply(pd.to_numeric, errors='coerce', axis=0)"
   ]
  },
  {
   "cell_type": "code",
   "execution_count": 14,
   "metadata": {
    "scrolled": true
   },
   "outputs": [
    {
     "data": {
      "text/plain": [
       "Open         float64\n",
       "High         float64\n",
       "Low          float64\n",
       "Close        float64\n",
       "Adj Close    float64\n",
       "Volume       float64\n",
       "dtype: object"
      ]
     },
     "execution_count": 14,
     "metadata": {},
     "output_type": "execute_result"
    }
   ],
   "source": [
    "train_df.dtypes"
   ]
  },
  {
   "cell_type": "code",
   "execution_count": 15,
   "metadata": {},
   "outputs": [
    {
     "data": {
      "text/html": [
       "<div>\n",
       "<style>\n",
       "    .dataframe thead tr:only-child th {\n",
       "        text-align: right;\n",
       "    }\n",
       "\n",
       "    .dataframe thead th {\n",
       "        text-align: left;\n",
       "    }\n",
       "\n",
       "    .dataframe tbody tr th {\n",
       "        vertical-align: top;\n",
       "    }\n",
       "</style>\n",
       "<table border=\"1\" class=\"dataframe\">\n",
       "  <thead>\n",
       "    <tr style=\"text-align: right;\">\n",
       "      <th></th>\n",
       "      <th>Open</th>\n",
       "      <th>High</th>\n",
       "      <th>Low</th>\n",
       "      <th>Close</th>\n",
       "      <th>Adj Close</th>\n",
       "      <th>Volume</th>\n",
       "    </tr>\n",
       "    <tr>\n",
       "      <th>Date</th>\n",
       "      <th></th>\n",
       "      <th></th>\n",
       "      <th></th>\n",
       "      <th></th>\n",
       "      <th></th>\n",
       "      <th></th>\n",
       "    </tr>\n",
       "  </thead>\n",
       "  <tbody>\n",
       "    <tr>\n",
       "      <th>2010-04-10</th>\n",
       "      <td>20501.21094</td>\n",
       "      <td>20706.74023</td>\n",
       "      <td>20437.35938</td>\n",
       "      <td>20475.73047</td>\n",
       "      <td>20475.73047</td>\n",
       "      <td>15000.0</td>\n",
       "    </tr>\n",
       "    <tr>\n",
       "      <th>2010-05-10</th>\n",
       "      <td>20461.98047</td>\n",
       "      <td>20560.53906</td>\n",
       "      <td>20383.16016</td>\n",
       "      <td>20407.71094</td>\n",
       "      <td>20407.71094</td>\n",
       "      <td>17800.0</td>\n",
       "    </tr>\n",
       "    <tr>\n",
       "      <th>2010-06-10</th>\n",
       "      <td>20448.68945</td>\n",
       "      <td>20669.94922</td>\n",
       "      <td>20447.05078</td>\n",
       "      <td>20543.08008</td>\n",
       "      <td>20543.08008</td>\n",
       "      <td>16200.0</td>\n",
       "    </tr>\n",
       "    <tr>\n",
       "      <th>2010-07-10</th>\n",
       "      <td>20544.30078</td>\n",
       "      <td>20581.28906</td>\n",
       "      <td>20272.76953</td>\n",
       "      <td>20315.32031</td>\n",
       "      <td>20315.32031</td>\n",
       "      <td>19200.0</td>\n",
       "    </tr>\n",
       "    <tr>\n",
       "      <th>2010-08-10</th>\n",
       "      <td>20297.58008</td>\n",
       "      <td>20409.18945</td>\n",
       "      <td>20145.74023</td>\n",
       "      <td>20250.25977</td>\n",
       "      <td>20250.25977</td>\n",
       "      <td>15400.0</td>\n",
       "    </tr>\n",
       "  </tbody>\n",
       "</table>\n",
       "</div>"
      ],
      "text/plain": [
       "                   Open         High          Low        Close    Adj Close  \\\n",
       "Date                                                                          \n",
       "2010-04-10  20501.21094  20706.74023  20437.35938  20475.73047  20475.73047   \n",
       "2010-05-10  20461.98047  20560.53906  20383.16016  20407.71094  20407.71094   \n",
       "2010-06-10  20448.68945  20669.94922  20447.05078  20543.08008  20543.08008   \n",
       "2010-07-10  20544.30078  20581.28906  20272.76953  20315.32031  20315.32031   \n",
       "2010-08-10  20297.58008  20409.18945  20145.74023  20250.25977  20250.25977   \n",
       "\n",
       "             Volume  \n",
       "Date                 \n",
       "2010-04-10  15000.0  \n",
       "2010-05-10  17800.0  \n",
       "2010-06-10  16200.0  \n",
       "2010-07-10  19200.0  \n",
       "2010-08-10  15400.0  "
      ]
     },
     "execution_count": 15,
     "metadata": {},
     "output_type": "execute_result"
    }
   ],
   "source": [
    "train_df.head()"
   ]
  },
  {
   "cell_type": "code",
   "execution_count": 16,
   "metadata": {
    "collapsed": true
   },
   "outputs": [],
   "source": [
    "train_df.sort_index(inplace=True)"
   ]
  },
  {
   "cell_type": "code",
   "execution_count": 17,
   "metadata": {},
   "outputs": [
    {
     "data": {
      "image/png": "[encoded data removed]",
      "text/plain": [
       "<matplotlib.figure.Figure at 0x7f9b25d48c50>"
      ]
     },
     "metadata": {},
     "output_type": "display_data"
    }
   ],
   "source": [
    "train_df[train_df.columns[:-1]].plot()\n",
    "plt.show()"
   ]
  },
  {
   "cell_type": "code",
   "execution_count": 18,
   "metadata": {
    "collapsed": true
   },
   "outputs": [],
   "source": [
    "train_df.fillna(method='backfill',inplace=True)"
   ]
  },
  {
   "cell_type": "markdown",
   "metadata": {},
   "source": [
    "# Data Preprocessing Done"
   ]
  },
  {
   "cell_type": "code",
   "execution_count": 207,
   "metadata": {
    "collapsed": true
   },
   "outputs": [],
   "source": [
    "from keras.models import Sequential\n",
    "from keras.layers.recurrent import LSTM\n",
    "from keras.layers.core import Dense, Activation, Dropout\n",
    "from sklearn.metrics import mean_squared_error\n",
    "from sklearn.utils import shuffle\n",
    "from sklearn.model_selection import GridSearchCV\n",
    "from keras.optimizers import  Adam\n",
    "from keras.callbacks import TensorBoard,EarlyStopping,ModelCheckpoint,LearningRateScheduler"
   ]
  },
  {
   "cell_type": "code",
   "execution_count": 208,
   "metadata": {
    "collapsed": true
   },
   "outputs": [],
   "source": [
    "# convert time series into supervised learning problem\n",
    "def data_to_supervised(data, n_in=1, n_out=1, dropnan=True):\n",
    "    n_vars = data.shape[1]\n",
    "    df = pd.DataFrame(data)\n",
    "    cols, names = list(), list()\n",
    "    # input sequence (t-n, ... t-1)\n",
    "    for i in range(n_in, 0, -1):\n",
    "        cols.append(df.shift(i))\n",
    "        names += [('var%d(t-%d)' % (j+1, i)) for j in range(n_vars)]\n",
    "    # forecast sequence (t, t+1, ... t+n)\n",
    "    for i in range(0, n_out):\n",
    "        cols.append(df.shift(-i))\n",
    "        if i == 0:\n",
    "            names += [('var%d(t)' % (j+1)) for j in range(n_vars)]\n",
    "        else:\n",
    "            names += [('var%d(t+%d)' % (j+1, i)) for j in range(n_vars)]\n",
    "    # put it all together\n",
    "    agg = pd.concat(cols, axis=1)\n",
    "    agg.columns = names\n",
    "    # drop rows with NaN values\n",
    "    if dropnan:\n",
    "        agg.dropna(inplace=True)\n",
    "    return agg"
   ]
  },
  {
   "cell_type": "code",
   "execution_count": 209,
   "metadata": {
    "collapsed": true
   },
   "outputs": [],
   "source": [
    "def exp_smoothing(data,EMA = 0.0,gamma = 0.5):\n",
    "    # So the data will have a smoother curve than the original ragged data\n",
    "    EMA = 0.0\n",
    "    gamma = 0.5\n",
    "    for col in range(data.shape[-1]):\n",
    "        for ti in range(len(data)):\n",
    "            EMA = gamma*data[ti,col] + (1-gamma)*EMA\n",
    "            data[ti,col] = EMA\n",
    "    return data"
   ]
  },
  {
   "cell_type": "code",
   "execution_count": 237,
   "metadata": {
    "collapsed": true
   },
   "outputs": [],
   "source": [
    "# transform df into train and test sets for supervised learning\n",
    "def prepare_data(df,n_lag, n_seq_forecast,test_frac=0.2):\n",
    "    # extract raw values\n",
    "    raw_values = df.values\n",
    "#     raw_values = exp_smoothing(raw_values)\n",
    "    # transform data to be stationary\n",
    "#     diff_values = prep.differencing(raw_values,axis=0)\n",
    "    # rescale values to -1, 1\n",
    "    scaled_values,scaler = prep.normalise_standardise(raw_values)\n",
    "    # transform into supervised learning problem X, y\n",
    "    supervised = data_to_supervised(scaled_values, n_lag, n_seq_forecast)\n",
    "    print(\"Supervised Data :\\n {} \\n {}\".format(supervised.shape,supervised.head()))\n",
    "    supervised_values = supervised.values\n",
    "    # split into train and test sets\n",
    "    train, test = prep.split_the_data(supervised_values,test_frac=test_frac)\n",
    "    train  = exp_smoothing(train)\n",
    "    return scaler, train, test"
   ]
  },
  {
   "cell_type": "code",
   "execution_count": 238,
   "metadata": {
    "collapsed": true
   },
   "outputs": [],
   "source": [
    "# FIXME: This helper function should be rewritten using numpy's shift function. See below.\n",
    "def create_dataset(dataset, window_size = 1):\n",
    "    data_X, data_Y = [], []\n",
    "    for i in range(len(dataset) - window_size - 1):\n",
    "        a = dataset[i:(i + window_size),:]\n",
    "        data_X.append(a)\n",
    "        data_Y.append(dataset[i + window_size,:])\n",
    "    return(np.array(data_X), np.array(data_Y))"
   ]
  },
  {
   "cell_type": "code",
   "execution_count": 239,
   "metadata": {
    "collapsed": true
   },
   "outputs": [],
   "source": [
    "#Dimensionality of the data. Since your data is 1-D this would be 1\n",
    "no_of_input_features = train_df.shape[-1]\n",
    "# Number of time steps you look into the future.\n",
    "window_size = 20\n",
    "batch_size = 16           # Number of samples in a batch\n",
    "no_epochs = 100            # No of epochs\n",
    "num_nodes = [200,200,150] # Number of hidden nodes in each layer of the deep LSTM stack we're using\n",
    "n_layers = len(num_nodes) # number of layers\n",
    "dropout = 0.5           # dropout amount\n",
    "n_lag = 4\n",
    "n_seq_forecast = 1"
   ]
  },
  {
   "cell_type": "code",
   "execution_count": 240,
   "metadata": {
    "scrolled": false
   },
   "outputs": [
    {
     "name": "stdout",
     "output_type": "stream",
     "text": [
      "Supervised Data :\n",
      " (1974, 30) \n",
      "    var1(t-4)  var2(t-4)  var3(t-4)  var4(t-4)  var5(t-4)  var6(t-4)  \\\n",
      "4  -1.000000   0.116771   0.137720   0.118028   0.129887  -0.858660   \n",
      "5  -0.672252  -0.257526  -0.248588  -0.248696  -0.242767  -0.885027   \n",
      "6  -0.477773  -0.421849  -0.409321  -0.410822  -0.407857  -0.906029   \n",
      "7  -0.393391  -0.518369  -0.505283  -0.507008  -0.505525  -0.901762   \n",
      "8  -0.336050  -0.547094  -0.531478  -0.534835  -0.534093  -0.928296   \n",
      "\n",
      "   var1(t-3)  var2(t-3)  var3(t-3)  var4(t-3)    ...     var3(t-1)  var4(t-1)  \\\n",
      "4  -0.672252  -0.257526  -0.248588  -0.248696    ...     -0.505283  -0.507008   \n",
      "5  -0.477773  -0.421849  -0.409321  -0.410822    ...     -0.531478  -0.534835   \n",
      "6  -0.393391  -0.518369  -0.505283  -0.507008    ...     -0.568104  -0.570118   \n",
      "7  -0.336050  -0.547094  -0.531478  -0.534835    ...     -0.562409  -0.565962   \n",
      "8  -0.323603  -0.581698  -0.568104  -0.570118    ...     -0.552351  -0.545983   \n",
      "\n",
      "   var5(t-1)  var6(t-1)   var1(t)   var2(t)   var3(t)   var4(t)   var5(t)  \\\n",
      "4  -0.505525  -0.901762 -0.336050 -0.547094 -0.531478 -0.534835 -0.534093   \n",
      "5  -0.534093  -0.928296 -0.323603 -0.581698 -0.568104 -0.570118 -0.569747   \n",
      "6  -0.569747  -0.925057 -0.300167 -0.571541 -0.562409 -0.565962 -0.565776   \n",
      "7  -0.565776  -0.918226 -0.284806 -0.557424 -0.552351 -0.545983 -0.545890   \n",
      "8  -0.545890  -0.924366 -0.282138 -0.565687 -0.556856 -0.556808 -0.556762   \n",
      "\n",
      "    var6(t)  \n",
      "4 -0.928296  \n",
      "5 -0.925057  \n",
      "6 -0.918226  \n",
      "7 -0.924366  \n",
      "8 -0.905718  \n",
      "\n",
      "[5 rows x 30 columns]\n"
     ]
    }
   ],
   "source": [
    "scaler,train_data,test_data = prepare_data(train_df,n_seq_forecast=n_seq_forecast,n_lag=n_lag)"
   ]
  },
  {
   "cell_type": "code",
   "execution_count": 241,
   "metadata": {
    "collapsed": true
   },
   "outputs": [],
   "source": [
    "# Create test and training sets for 20-step-ahead regression.\n",
    "# reshape training into [samples, timesteps, features]\n",
    "train_X, train_Y = train_data[:, 0:(no_of_input_features*n_lag)], train_data[:,(no_of_input_features*n_lag):]\n",
    "train_X = train_X.reshape(train_X.shape[0],n_lag,no_of_input_features)\n",
    "train_Y = train_Y.reshape(train_Y.shape[0],n_seq_forecast,no_of_input_features)\n",
    "\n",
    "test_X, test_Y = test_data[:, 0:(no_of_input_features*n_lag)], test_data[:, no_of_input_features*n_lag:]\n",
    "test_X = np.reshape(test_X, (test_X.shape[0],n_lag,no_of_input_features))\n",
    "test_Y = test_Y.reshape(test_Y.shape[0],n_seq_forecast,no_of_input_features)"
   ]
  },
  {
   "cell_type": "code",
   "execution_count": 242,
   "metadata": {},
   "outputs": [
    {
     "name": "stdout",
     "output_type": "stream",
     "text": [
      "Training data input shape: (1580, 4, 6) and  Output shape: (1580, 1, 6)\n",
      "Test data input shape: (395, 4, 6) and Output shape: (395, 1, 6)\n"
     ]
    }
   ],
   "source": [
    "print(\"Training data input shape: {} and  Output shape: {}\".format(train_X.shape,train_Y.shape))\n",
    "print(\"Test data input shape: {} and Output shape: {}\".format(test_X.shape,test_Y.shape))"
   ]
  },
  {
   "cell_type": "code",
   "execution_count": 243,
   "metadata": {
    "collapsed": true
   },
   "outputs": [],
   "source": [
    "filepath = './best_model'"
   ]
  },
  {
   "cell_type": "code",
   "execution_count": 244,
   "metadata": {
    "collapsed": true
   },
   "outputs": [],
   "source": [
    "model_ckpt = ModelCheckpoint(filepath, monitor='val_loss', \n",
    "                                verbose=0, \n",
    "                                save_best_only=False, \n",
    "                                save_weights_only=False, \n",
    "                                mode='auto', \n",
    "                                period=1)"
   ]
  },
  {
   "cell_type": "code",
   "execution_count": 245,
   "metadata": {
    "collapsed": true
   },
   "outputs": [],
   "source": [
    "earlystp = EarlyStopping(monitor='val_loss',\n",
    "                         min_delta=0, \n",
    "                         patience=20, \n",
    "                         verbose=1, mode='auto')"
   ]
  },
  {
   "cell_type": "code",
   "execution_count": 246,
   "metadata": {
    "collapsed": true
   },
   "outputs": [],
   "source": [
    "def lr_decay(epoch):\n",
    "    initial_lr = 0.1\n",
    "    drop = 0.5\n",
    "    epochs_drop = 10.0\n",
    "    lr= initial_lr * math.pow(drop, math.floor((1+epoch)/epochs_drop))\n",
    "    return lr"
   ]
  },
  {
   "cell_type": "code",
   "execution_count": 247,
   "metadata": {
    "collapsed": true
   },
   "outputs": [],
   "source": [
    "lrscheduler = LearningRateScheduler(lr_decay,verbose=1)"
   ]
  },
  {
   "cell_type": "code",
   "execution_count": 248,
   "metadata": {
    "collapsed": true
   },
   "outputs": [],
   "source": [
    "tb = TensorBoard(log_dir='./logs', \n",
    "                 histogram_freq=0, batch_size=batch_size)"
   ]
  },
  {
   "cell_type": "code",
   "execution_count": 249,
   "metadata": {
    "collapsed": true
   },
   "outputs": [],
   "source": [
    "# fit an LSTM network to training data\n",
    "def create_model(n_lag,batch_size, num_nodes):\n",
    "    # training into [samples, timesteps, features]\n",
    "    # design network\n",
    "    model = Sequential()\n",
    "    model.add(LSTM(200,input_shape=(n_lag,no_of_input_features),return_sequences=True))\n",
    "    model.add(Dropout(0.2))\n",
    "    model.add(LSTM(200,return_sequences=False))\n",
    "    model.add(Dropout(0.3))\n",
    "#     model.add(LSTM(100))\n",
    "#     model.add(Dropout(0.5))\n",
    "    model.add(Dense(no_of_input_features*n_seq_forecast))\n",
    "    model.add(Activation(\"linear\"))\n",
    "    \n",
    "    adam = Adam(lr=0.001, beta_1=0.9, beta_2=0.999, epsilon=None, decay=1e-7, amsgrad=False)\n",
    "\n",
    "    model.compile(loss='mean_squared_error', optimizer=adam)\n",
    "    \n",
    "    model.summary()\n",
    "    return model"
   ]
  },
  {
   "cell_type": "code",
   "execution_count": 250,
   "metadata": {
    "collapsed": true
   },
   "outputs": [],
   "source": [
    "# invert differenced forecast\n",
    "def inverse_difference(last_ob, forecast):\n",
    "    # invert first forecast\n",
    "    inverted = list()\n",
    "    inverted.append(forecast[0] + last_ob)\n",
    "    # propagate difference forecast using inverted first value\n",
    "    for i in range(1, len(forecast)):\n",
    "        inverted.append(forecast[i] + inverted[i-1])\n",
    "    return inverted"
   ]
  },
  {
   "cell_type": "code",
   "execution_count": 251,
   "metadata": {
    "collapsed": true
   },
   "outputs": [],
   "source": [
    "# inverse data transform on forecasts\n",
    "def inverse_transform(series, forecasts, scaler, n_test):\n",
    "    inverted = list()\n",
    "    for i in range(len(forecasts)):\n",
    "        # create array from forecast\n",
    "        forecast = forecasts[i]\n",
    "        # invert scaling\n",
    "        inv_scale = scaler.inverse_transform(forecast)\n",
    "        \n",
    "#         # invert differencing\n",
    "#         index = len(series) - n_test + i - 1\n",
    "#         last_ob = series.values[index]\n",
    "#         inv_diff = inverse_difference(last_ob, inv_scale)\n",
    "        # store\n",
    "        inverted.append(inv_scale)\n",
    "    \n",
    "    return np.array(inverted).reshape(-1,n_seq_forecast,no_of_input_features)"
   ]
  },
  {
   "cell_type": "code",
   "execution_count": 252,
   "metadata": {
    "collapsed": true
   },
   "outputs": [],
   "source": [
    "# evaluate the RMSE for each forecast time step\n",
    "def evaluate_forecasts(test, forecasts, n_lag, n_seq_forecasts):\n",
    "    for i in range(n_seq_forecasts):\n",
    "        actual = [row[i] for row in test]\n",
    "        predicted = [forecast[i] for forecast in forecasts]\n",
    "        rmse = sqrt(mean_squared_error(actual, predicted))\n",
    "        print('t+%d RMSE: %f' % ((i+1), rmse))"
   ]
  },
  {
   "cell_type": "code",
   "execution_count": 253,
   "metadata": {
    "collapsed": true
   },
   "outputs": [],
   "source": [
    "# plot the forecasts in the context of the original dataset\n",
    "def plot_forecasts(series, forecasts, n_test):\n",
    "    print(forecasts.shape)\n",
    "    # plot the entire dataset in blue\n",
    "    plt.plot(series.values[0])\n",
    "    # plot the forecasts in red\n",
    "    for i in range(len(forecasts)):\n",
    "        off_s = len(series) - n_test + i - 1\n",
    "        off_e = off_s + len(forecasts[i]) + 1\n",
    "        xaxis = [x for x in range(off_s, off_e)]\n",
    "        yaxis = [series.values[off_s][0]] + forecasts[i]\n",
    "        plt.plot(xaxis, yaxis, color='red')\n",
    "    # show the plot\n",
    "    pyplot.show()"
   ]
  },
  {
   "cell_type": "code",
   "execution_count": 254,
   "metadata": {
    "scrolled": false
   },
   "outputs": [
    {
     "name": "stdout",
     "output_type": "stream",
     "text": [
      "_________________________________________________________________\n",
      "Layer (type)                 Output Shape              Param #   \n",
      "=================================================================\n",
      "lstm_17 (LSTM)               (None, 4, 200)            165600    \n",
      "_________________________________________________________________\n",
      "dropout_17 (Dropout)         (None, 4, 200)            0         \n",
      "_________________________________________________________________\n",
      "lstm_18 (LSTM)               (None, 200)               320800    \n",
      "_________________________________________________________________\n",
      "dropout_18 (Dropout)         (None, 200)               0         \n",
      "_________________________________________________________________\n",
      "dense_9 (Dense)              (None, 6)                 1206      \n",
      "_________________________________________________________________\n",
      "activation_9 (Activation)    (None, 6)                 0         \n",
      "=================================================================\n",
      "Total params: 487,606\n",
      "Trainable params: 487,606\n",
      "Non-trainable params: 0\n",
      "_________________________________________________________________\n"
     ]
    }
   ],
   "source": [
    "model1 = create_model(n_lag=n_lag,batch_size=batch_size,num_nodes=num_nodes)"
   ]
  },
  {
   "cell_type": "code",
   "execution_count": 255,
   "metadata": {},
   "outputs": [
    {
     "name": "stdout",
     "output_type": "stream",
     "text": [
      "Train on 1264 samples, validate on 316 samples\n",
      "Epoch 1/100\n",
      "1264/1264 [==============================] - 5s 4ms/step - loss: 0.0395 - val_loss: 0.0214\n",
      "Epoch 2/100\n",
      "1264/1264 [==============================] - 3s 2ms/step - loss: 0.0446 - val_loss: 0.0140\n",
      "Epoch 3/100\n",
      "1264/1264 [==============================] - 3s 2ms/step - loss: 0.0423 - val_loss: 0.0137\n",
      "Epoch 4/100\n",
      "1264/1264 [==============================] - 3s 2ms/step - loss: 0.0209 - val_loss: 0.0103\n",
      "Epoch 5/100\n",
      "1264/1264 [==============================] - 3s 2ms/step - loss: 0.0210 - val_loss: 0.0051\n",
      "Epoch 6/100\n",
      "1264/1264 [==============================] - 3s 2ms/step - loss: 0.0159 - val_loss: 0.0087\n",
      "Epoch 7/100\n",
      "1264/1264 [==============================] - 3s 2ms/step - loss: 0.0279 - val_loss: 0.0067\n",
      "Epoch 8/100\n",
      "1264/1264 [==============================] - 3s 2ms/step - loss: 0.0259 - val_loss: 0.0143\n",
      "Epoch 9/100\n",
      "1264/1264 [==============================] - 3s 2ms/step - loss: 0.0344 - val_loss: 0.0041\n",
      "Epoch 10/100\n",
      "1264/1264 [==============================] - 3s 2ms/step - loss: 0.0227 - val_loss: 0.0078\n",
      "Epoch 11/100\n",
      "1264/1264 [==============================] - 3s 2ms/step - loss: 0.0283 - val_loss: 0.0042\n",
      "Epoch 12/100\n",
      "1264/1264 [==============================] - 3s 2ms/step - loss: 0.0141 - val_loss: 0.0040\n",
      "Epoch 13/100\n",
      "1264/1264 [==============================] - 3s 2ms/step - loss: 0.0245 - val_loss: 0.0041\n",
      "Epoch 14/100\n",
      "1264/1264 [==============================] - 3s 2ms/step - loss: 0.0238 - val_loss: 0.0029\n",
      "Epoch 15/100\n",
      "1264/1264 [==============================] - 3s 2ms/step - loss: 0.0117 - val_loss: 0.0027\n",
      "Epoch 16/100\n",
      "1264/1264 [==============================] - 3s 2ms/step - loss: 0.0155 - val_loss: 0.0022\n",
      "Epoch 17/100\n",
      "1264/1264 [==============================] - 3s 2ms/step - loss: 0.0184 - val_loss: 0.0024\n",
      "Epoch 18/100\n",
      "1264/1264 [==============================] - 3s 2ms/step - loss: 0.0159 - val_loss: 0.0017\n",
      "Epoch 19/100\n",
      "1264/1264 [==============================] - 3s 2ms/step - loss: 0.0149 - val_loss: 0.0018\n",
      "Epoch 20/100\n",
      "1264/1264 [==============================] - 3s 2ms/step - loss: 0.0129 - val_loss: 0.0021\n",
      "Epoch 21/100\n",
      "1264/1264 [==============================] - 3s 2ms/step - loss: 0.0141 - val_loss: 0.0017\n",
      "Epoch 22/100\n",
      "1264/1264 [==============================] - 3s 2ms/step - loss: 0.0135 - val_loss: 0.0028\n",
      "Epoch 23/100\n",
      "1264/1264 [==============================] - 3s 2ms/step - loss: 0.0139 - val_loss: 0.0028\n",
      "Epoch 24/100\n",
      "1264/1264 [==============================] - 3s 2ms/step - loss: 0.0121 - val_loss: 0.0023\n",
      "Epoch 25/100\n",
      "1264/1264 [==============================] - 3s 2ms/step - loss: 0.0143 - val_loss: 0.0043\n",
      "Epoch 26/100\n",
      "1264/1264 [==============================] - 3s 2ms/step - loss: 0.0146 - val_loss: 0.0031\n",
      "Epoch 27/100\n",
      "1264/1264 [==============================] - 3s 2ms/step - loss: 0.0133 - val_loss: 0.0028\n",
      "Epoch 28/100\n",
      "1264/1264 [==============================] - 3s 2ms/step - loss: 0.0136 - val_loss: 0.0025\n",
      "Epoch 29/100\n",
      "1264/1264 [==============================] - 3s 2ms/step - loss: 0.0126 - val_loss: 0.0027\n",
      "Epoch 30/100\n",
      "1264/1264 [==============================] - 3s 2ms/step - loss: 0.0115 - val_loss: 0.0017\n",
      "Epoch 31/100\n",
      "1264/1264 [==============================] - 3s 2ms/step - loss: 0.0112 - val_loss: 0.0021\n",
      "Epoch 32/100\n",
      "1264/1264 [==============================] - 3s 2ms/step - loss: 0.0109 - val_loss: 0.0017\n",
      "Epoch 33/100\n",
      "1264/1264 [==============================] - 3s 2ms/step - loss: 0.0108 - val_loss: 0.0014\n",
      "Epoch 34/100\n",
      "1264/1264 [==============================] - 3s 2ms/step - loss: 0.0103 - val_loss: 0.0017\n",
      "Epoch 35/100\n",
      "1264/1264 [==============================] - 3s 2ms/step - loss: 0.0100 - val_loss: 0.0016\n",
      "Epoch 36/100\n",
      "1264/1264 [==============================] - 3s 2ms/step - loss: 0.0094 - val_loss: 0.0022\n",
      "Epoch 37/100\n",
      "1264/1264 [==============================] - 3s 2ms/step - loss: 0.0092 - val_loss: 0.0014\n",
      "Epoch 38/100\n",
      "1264/1264 [==============================] - 3s 2ms/step - loss: 0.0086 - val_loss: 0.0016\n",
      "Epoch 39/100\n",
      "1264/1264 [==============================] - 3s 2ms/step - loss: 0.0079 - val_loss: 0.0013\n",
      "Epoch 40/100\n",
      "1264/1264 [==============================] - 3s 3ms/step - loss: 0.0079 - val_loss: 9.9448e-04\n",
      "Epoch 41/100\n",
      "1264/1264 [==============================] - 3s 2ms/step - loss: 0.0078 - val_loss: 8.1944e-04\n",
      "Epoch 42/100\n",
      "1264/1264 [==============================] - 3s 2ms/step - loss: 0.0074 - val_loss: 0.0014\n",
      "Epoch 43/100\n",
      "1264/1264 [==============================] - 3s 2ms/step - loss: 0.0069 - val_loss: 7.5999e-04\n",
      "Epoch 44/100\n",
      "1264/1264 [==============================] - 3s 2ms/step - loss: 0.0068 - val_loss: 0.0010\n",
      "Epoch 45/100\n",
      "1264/1264 [==============================] - 3s 3ms/step - loss: 0.0065 - val_loss: 0.0011\n",
      "Epoch 46/100\n",
      "1264/1264 [==============================] - 3s 2ms/step - loss: 0.0063 - val_loss: 0.0012\n",
      "Epoch 47/100\n",
      "1264/1264 [==============================] - 4s 3ms/step - loss: 0.0059 - val_loss: 0.0010\n",
      "Epoch 48/100\n",
      "1264/1264 [==============================] - 3s 3ms/step - loss: 0.0062 - val_loss: 0.0013\n",
      "Epoch 49/100\n",
      "1264/1264 [==============================] - 3s 2ms/step - loss: 0.0064 - val_loss: 0.0018\n",
      "Epoch 50/100\n",
      "1264/1264 [==============================] - 3s 2ms/step - loss: 0.0061 - val_loss: 0.0014\n",
      "Epoch 51/100\n",
      "1264/1264 [==============================] - 3s 2ms/step - loss: 0.0059 - val_loss: 0.0020\n",
      "Epoch 52/100\n",
      "1264/1264 [==============================] - 3s 2ms/step - loss: 0.0059 - val_loss: 0.0019\n",
      "Epoch 53/100\n",
      "1264/1264 [==============================] - 3s 2ms/step - loss: 0.0063 - val_loss: 0.0021\n",
      "Epoch 54/100\n",
      "1264/1264 [==============================] - 3s 2ms/step - loss: 0.0061 - val_loss: 0.0020\n",
      "Epoch 55/100\n",
      "1264/1264 [==============================] - 3s 2ms/step - loss: 0.0063 - val_loss: 0.0021\n",
      "Epoch 56/100\n",
      "1264/1264 [==============================] - 3s 2ms/step - loss: 0.0063 - val_loss: 0.0020\n",
      "Epoch 57/100\n",
      "1264/1264 [==============================] - 3s 2ms/step - loss: 0.0058 - val_loss: 0.0019\n",
      "Epoch 58/100\n",
      "1264/1264 [==============================] - 3s 2ms/step - loss: 0.0055 - val_loss: 0.0018\n",
      "Epoch 59/100\n",
      "1264/1264 [==============================] - 3s 2ms/step - loss: 0.0051 - val_loss: 0.0021\n",
      "Epoch 60/100\n",
      "1264/1264 [==============================] - 3s 2ms/step - loss: 0.0047 - val_loss: 0.0020\n",
      "Epoch 61/100\n",
      "1264/1264 [==============================] - 3s 3ms/step - loss: 0.0046 - val_loss: 0.0016\n",
      "Epoch 62/100\n",
      "1264/1264 [==============================] - 3s 2ms/step - loss: 0.0045 - val_loss: 0.0011\n",
      "Epoch 63/100\n",
      "1264/1264 [==============================] - 3s 2ms/step - loss: 0.0043 - val_loss: 0.0012\n",
      "Epoch 00063: early stopping\n"
     ]
    },
    {
     "data": {
      "text/plain": [
       "<keras.callbacks.History at 0x7f9acdd72a58>"
      ]
     },
     "execution_count": 255,
     "metadata": {},
     "output_type": "execute_result"
    }
   ],
   "source": [
    "# Fit the model.\n",
    "model1.fit(train_X, \n",
    "          train_Y.reshape(len(train_Y),-1), \n",
    "          batch_size = batch_size,\n",
    "          epochs = no_epochs,\n",
    "          validation_split = 0.2,\n",
    "          verbose=1,shuffle = False,\n",
    "          callbacks = [model_ckpt,tb,earlystp])"
   ]
  },
  {
   "cell_type": "code",
   "execution_count": 256,
   "metadata": {
    "collapsed": true
   },
   "outputs": [],
   "source": [
    "def forecast(model,X,batch_size):\n",
    "    return (model.predict(X,batch_size=batch_size).reshape(-1,n_seq_forecast,no_of_input_features))"
   ]
  },
  {
   "cell_type": "code",
   "execution_count": 257,
   "metadata": {
    "collapsed": true
   },
   "outputs": [],
   "source": [
    "# make forecasts\n",
    "forecasts = forecast(model1,test_X,batch_size=batch_size)\n",
    "# inverse transform forecasts and test_data\n",
    "n_test = len(test_X)\n",
    "# forecasts = scaler.inverse_transform(forecasts)\n",
    "# actual = scaler.inverse_transform(test_Y)\n",
    "forecasts = inverse_transform(train_df, forecasts, scaler, n_test+2)\n",
    "actual = inverse_transform(train_df, test_Y, scaler, n_test+2)"
   ]
  },
  {
   "cell_type": "code",
   "execution_count": 258,
   "metadata": {},
   "outputs": [
    {
     "name": "stdout",
     "output_type": "stream",
     "text": [
      "t+1 RMSE: 29099.602209\n"
     ]
    }
   ],
   "source": [
    "# evaluate forecasts\n",
    "evaluate_forecasts(test_Y, forecasts, n_lag, n_seq_forecast)"
   ]
  },
  {
   "cell_type": "code",
   "execution_count": 259,
   "metadata": {},
   "outputs": [
    {
     "data": {
      "image/png": "[encoded data removed]",
      "text/plain": [
       "<matplotlib.figure.Figure at 0x7f9acc813240>"
      ]
     },
     "metadata": {},
     "output_type": "display_data"
    }
   ],
   "source": [
    "plt.figure(figsize = (15, 5))\n",
    "# plt.plot(actual[:,0,0], label=\"True value\")\n",
    "plt.plot(forecasts[:,0,0],label=\"Predicted value\")\n",
    "plt.plot(actual[:,0,0],label=\"True value\")\n",
    "plt.xlabel(\"x\")\n",
    "plt.title(\"Comparison true vs. predicted test set\")\n",
    "plt.legend()\n",
    "plt.show()"
   ]
  },
  {
   "cell_type": "code",
   "execution_count": 263,
   "metadata": {},
   "outputs": [
    {
     "data": {
      "text/plain": [
       "34723.516"
      ]
     },
     "execution_count": 263,
     "metadata": {},
     "output_type": "execute_result"
    }
   ],
   "source": [
    "forecasts[-1,0,0]"
   ]
  },
  {
   "cell_type": "code",
   "execution_count": 264,
   "metadata": {},
   "outputs": [
    {
     "data": {
      "text/plain": [
       "36582.971408994737"
      ]
     },
     "execution_count": 264,
     "metadata": {},
     "output_type": "execute_result"
    }
   ],
   "source": [
    "actual[-1,0,0]"
   ]
  },
  {
   "cell_type": "code",
   "execution_count": 268,
   "metadata": {},
   "outputs": [
    {
     "data": {
      "text/plain": [
       "36582.971408994737"
      ]
     },
     "execution_count": 268,
     "metadata": {},
     "output_type": "execute_result"
    }
   ],
   "source": [
    "train_df.iloc[-1,0]"
   ]
  },
  {
   "cell_type": "code",
   "execution_count": 270,
   "metadata": {},
   "outputs": [
    {
     "data": {
      "text/plain": [
       "Timestamp('2018-12-09 00:00:00')"
      ]
     },
     "execution_count": 270,
     "metadata": {},
     "output_type": "execute_result"
    }
   ],
   "source": [
    "train_df.index[-1]"
   ]
  },
  {
   "cell_type": "code",
   "execution_count": 260,
   "metadata": {
    "collapsed": true
   },
   "outputs": [],
   "source": [
    "# def predict_and_score(model, X, Y):\n",
    "#     # Make predictions on the original scale of the data.\n",
    "#     pred = scaler.inverse_transform(model.predict(X))\n",
    "#     # Prepare Y data to also be on the original scale for interpretability.\n",
    "#     orig_data = scaler.inverse_transform(Y)\n",
    "#     # Calculate RMSE.\n",
    "#     score = math.sqrt(mean_squared_error(orig_data[0], pred[:, 0]))\n",
    "#     return(score, pred)\n",
    "\n",
    "# # rmse_train, train_predict = predict_and_score(model1, train_X, train_Y)\n",
    "# rmse_test, test_predict = predict_and_score(model1, test_X, test_Y)\n",
    "\n",
    "# print(\"Training data score: %.2f RMSE\" % rmse_train)\n",
    "# print(\"Test data score: %.2f RMSE\" % rmse_test)"
   ]
  },
  {
   "cell_type": "code",
   "execution_count": 261,
   "metadata": {},
   "outputs": [
    {
     "name": "stdout",
     "output_type": "stream",
     "text": [
      "[  1537911.70779712   1445281.90210609   1404711.50379075\n",
      "   1397631.11139407   1438177.31841029  21419711.82411122]\n"
     ]
    }
   ],
   "source": [
    "# Predict on train data.\n",
    "pred_train = model1.predict(train_X).reshape(-1,n_seq_forecast,no_of_input_features)\n",
    "\n",
    "# Apply inverse transformation to get back true values.\n",
    "train_y_actual = scaler.inverse_transform(train_Y[:,0,:])\n",
    "pred_train_rescaled = scaler.inverse_transform(pred_train[:,0,:])\n",
    "\n",
    "mse_error_per_op = (mean_squared_error(train_y_actual,pred_train_rescaled,multioutput='raw_values'))\n",
    "print(mse_error_per_op)"
   ]
  },
  {
   "cell_type": "code",
   "execution_count": 262,
   "metadata": {},
   "outputs": [
    {
     "data": {
      "image/png": "[encoded data removed]",
      "text/plain": [
       "<matplotlib.figure.Figure at 0x7f9ace900390>"
      ]
     },
     "metadata": {},
     "output_type": "display_data"
    }
   ],
   "source": [
    "plt.figure(figsize = (15, 5))\n",
    "plt.plot(train_y_actual[:,0], label=\"True value\")\n",
    "plt.plot(pred_train_rescaled[:,0], label=\"Predicted value\")\n",
    "plt.xlabel(\"x\")\n",
    "plt.title(\"Comparison true vs. predicted train set\")\n",
    "plt.legend()\n",
    "plt.show()"
   ]
  },
  {
   "cell_type": "code",
   "execution_count": null,
   "metadata": {
    "collapsed": true
   },
   "outputs": [],
   "source": []
  }
 ],
 "metadata": {
  "kernelspec": {
   "display_name": "Python 3",
   "language": "python",
   "name": "python3"
  },
  "language_info": {
   "codemirror_mode": {
    "name": "ipython",
    "version": 3
   },
   "file_extension": ".py",
   "mimetype": "text/x-python",
   "name": "python",
   "nbconvert_exporter": "python",
   "pygments_lexer": "ipython3",
   "version": "3.6.8"
  }
 },
 "nbformat": 4,
 "nbformat_minor": 2
}
